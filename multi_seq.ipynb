{
 "cells": [
  {
   "cell_type": "code",
   "execution_count": 1,
   "metadata": {},
   "outputs": [],
   "source": [
    "import numpy as np\n",
    "import pyvista as pv\n",
    "import trimesh as tm\n",
    "import os \n",
    "import copy"
   ]
  },
  {
   "cell_type": "code",
   "execution_count": 2,
   "metadata": {},
   "outputs": [
    {
     "name": "stdout",
     "output_type": "stream",
     "text": [
      "[<trimesh.Trimesh(vertices.shape=(11196, 3), faces.shape=(11132, 3))>, <trimesh.Trimesh(vertices.shape=(10345, 3), faces.shape=(10388, 3))>, <trimesh.Trimesh(vertices.shape=(11145, 3), faces.shape=(11191, 3))>, <trimesh.Trimesh(vertices.shape=(10688, 3), faces.shape=(10937, 3))>, <trimesh.Trimesh(vertices.shape=(10611, 3), faces.shape=(10617, 3))>]\n"
     ]
    }
   ],
   "source": [
    "angles = [180] + [0] * 2 + [180] * 2\n",
    "\n",
    "axes = [[0,1,0]] * 3 + [[0,0,1]] * 2\n",
    "\n",
    "moves = np.array([[ 0, 0, 0],\n",
    "                  [ 1, 0, 0],\n",
    "                  [-1, 0, 0],\n",
    "                  [ 0, 1, 0],\n",
    "                  [ 0,-1, 0]]) * 2.0\n",
    "sides = []\n",
    "for i, a, axis, move in zip(range(5),angles, axes, moves):\n",
    "    mesh_path = os.path.relpath(\"data/side_0\" + str(i) + \".ply\")\n",
    "    mesh = tm.load_mesh(mesh_path)\n",
    "\n",
    "    #rotation\n",
    "    Ry = tm.transformations.rotation_matrix(np.radians(a), axis)\n",
    "    mesh.apply_transform(Ry)\n",
    "\n",
    "    # move\n",
    "    mesh.vertices += move\n",
    "\n",
    "    sides.append(mesh)"
   ]
  },
  {
   "cell_type": "code",
   "execution_count": 3,
   "metadata": {},
   "outputs": [],
   "source": [
    "# convert mesh to pv_mesh\n",
    "def tri_to_pv(tri_mesh):\n",
    "    faces = np.pad(tri_mesh.faces, ((0, 0),(1,0)), 'constant', constant_values=3)\n",
    "    pv_mesh = pv.PolyData(tri_mesh.vertices, faces)\n",
    "    return pv_mesh"
   ]
  },
  {
   "cell_type": "code",
   "execution_count": 5,
   "metadata": {},
   "outputs": [],
   "source": [
    "# test_mesh = sides[0]\n",
    "class MyCustomRoutine():\n",
    "    def __init__(self, mesh, mesh_list):\n",
    "        self.output = mesh # Expected PyVista mesh type\n",
    "        self.output_separate = mesh_list\n",
    "        # default parameters\n",
    "        self.kwargs = {\n",
    "            'rot_l': 0,\n",
    "            'rot_r': 0,\n",
    "            'rot_u': 0,\n",
    "            'rot_d': 0\n",
    "        }\n",
    "\n",
    "    def __call__(self, param, value):\n",
    "        self.kwargs[param] = value\n",
    "        self.update(param)\n",
    "\n",
    "    def active(self, param, active_param):\n",
    "        if param == active_param:\n",
    "            return self.kwargs[param]\n",
    "        else:\n",
    "            return 0.0\n",
    "\n",
    "    def update(self, param):\n",
    "        # This is where you call your simulation\n",
    "        R = []\n",
    "        R_0 = tm.transformations.rotation_matrix(np.radians(0.0), [0,1,0], [ 1, 0, 0])\n",
    "        R_l = tm.transformations.rotation_matrix(np.radians(self.active(\"rot_l\", param)), [0,1,0], [ 1, 0, 0])\n",
    "        R_r = tm.transformations.rotation_matrix(np.radians(self.active(\"rot_r\", param)), [0,1,0], [-1, 0, 0])\n",
    "        R_u = tm.transformations.rotation_matrix(np.radians(self.active(\"rot_u\", param)), [1,0,0], [ 0, 1, 0])\n",
    "        R_d = tm.transformations.rotation_matrix(np.radians(self.active(\"rot_d\", param)), [1,0,0], [ 0,-1, 0])\n",
    "        R = [R_0, R_l, R_r, R_u, R_d]\n",
    "        \n",
    "        new_pv_sides = []\n",
    "        params = [  \"rot\",\n",
    "                    \"rot_l\",\n",
    "                    \"rot_r\",\n",
    "                    \"rot_u\",\n",
    "                    \"rot_d\"]\n",
    "\n",
    "        for i, mesh, r, p in zip(range(5), sides, R, params):\n",
    "            if self.active(p, param) != 0.0:\n",
    "                n_mesh = copy.deepcopy(mesh)\n",
    "                # rotation\n",
    "                n_mesh.apply_transform(r)\n",
    "                # conversion \n",
    "                pv_mesh = tri_to_pv(n_mesh)\n",
    "                # append \n",
    "                new_pv_sides.append(pv_mesh)\n",
    "            else:\n",
    "                new_pv_sides.append(self.output_separate[i])\n",
    "\n",
    "\n",
    "        all_mesh = new_pv_sides[0] + new_pv_sides[1] + new_pv_sides[2] + new_pv_sides[3] + new_pv_sides[4]\n",
    "\n",
    "        all_mesh.point_arrays[\"colors\"] = all_mesh_scalars\n",
    "\n",
    "        self.output_separate = new_pv_sides\n",
    "        self.output.overwrite(all_mesh)\n",
    "\n",
    "        return\n",
    "\n",
    "\n",
    "pv_sides = []\n",
    "mesh_scalaras = []\n",
    "for mesh in sides:\n",
    "    pv_mesh = tri_to_pv(mesh)\n",
    "    pv_sides.append(pv_mesh)\n",
    "    mesh_scalaras.append(mesh.visual.vertex_colors)\n",
    "\n",
    "all_mesh = pv_sides[0] + pv_sides[1] + pv_sides[2] + pv_sides[3] + pv_sides[4]\n",
    "all_mesh_scalars =  np.concatenate(tuple(mesh_scalaras), axis=0)\n",
    "all_mesh.point_arrays[\"colors\"] = all_mesh_scalars\n",
    "\n",
    "\n",
    "engine = MyCustomRoutine(all_mesh, pv_sides)"
   ]
  },
  {
   "cell_type": "code",
   "execution_count": 6,
   "metadata": {},
   "outputs": [
    {
     "data": {
      "application/vnd.jupyter.widget-view+json": {
       "model_id": "46c4ef944985409b8469af46e876795f",
       "version_major": 2,
       "version_minor": 0
      },
      "text/plain": [
       "ViewInteractiveWidget(height=768, layout=Layout(height='auto', width='100%'), width=1024)"
      ]
     },
     "metadata": {},
     "output_type": "display_data"
    },
    {
     "data": {
      "text/plain": [
       "[(0.034177221342122865, -0.0009799664626379883, -15.833283312554004),\n",
       " (-0.05859002470970154, 0.0016799569129943848, 3.6497318709445835e-24),\n",
       " (0.0, 1.0, 0.0)]"
      ]
     },
     "execution_count": 6,
     "metadata": {},
     "output_type": "execute_result"
    }
   ],
   "source": [
    "p = pv.Plotter(notebook=True)\n",
    "\n",
    "# adding the meshes\n",
    "p.add_mesh(all_mesh, scalars=\"colors\", rgb=True)\n",
    "\n",
    "p.add_slider_widget(\n",
    "    callback=lambda value: engine('rot_l', value),\n",
    "    rng=[-180, 180],\n",
    "    value=0,\n",
    "    title=\"Left\",\n",
    "    pointa=(.025, .075), pointb=(.30, .075),\n",
    "    style='classic',\n",
    "    event_type=\"always\"\n",
    ")\n",
    "p.add_slider_widget(\n",
    "    callback=lambda value: engine('rot_r', value),\n",
    "    rng=[-180, 180],\n",
    "    value=0,\n",
    "    title=\"Right\",\n",
    "    pointa=(.025, .2), pointb=(.30, .2),\n",
    "    style='classic',\n",
    "    event_type=\"always\"\n",
    ")\n",
    "p.add_slider_widget(\n",
    "    callback=lambda value: engine('rot_u', value),\n",
    "    rng=[-180, 180],\n",
    "    value=0,\n",
    "    title=\"Up\",\n",
    "    pointa=(.025, .325), pointb=(.30, .325),\n",
    "    style='classic',\n",
    "    event_type=\"always\"\n",
    ")\n",
    "p.add_slider_widget(\n",
    "    callback=lambda value: engine('rot_d', value),\n",
    "    rng=[-180, 180],\n",
    "    value=0,\n",
    "    title=\"Down\",\n",
    "    pointa=(.025, .45), pointb=(.30, .45),\n",
    "    style='classic',\n",
    "    event_type=\"always\"\n",
    ")\n",
    "\n",
    "p.set_position([0,0,-10])\n",
    "p.reset_camera()\n",
    "p.set_background(\"#000000\")\n",
    "p.show(use_ipyvtk=True)"
   ]
  }
 ],
 "metadata": {
  "kernelspec": {
   "display_name": "Python 3",
   "language": "python",
   "name": "python3"
  },
  "language_info": {
   "codemirror_mode": {
    "name": "ipython",
    "version": 3
   },
   "file_extension": ".py",
   "mimetype": "text/x-python",
   "name": "python",
   "nbconvert_exporter": "python",
   "pygments_lexer": "ipython3",
   "version": "3.8.5"
  }
 },
 "nbformat": 4,
 "nbformat_minor": 2
}
